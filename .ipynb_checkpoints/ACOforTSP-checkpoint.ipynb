{
 "cells": [
  {
   "cell_type": "code",
   "execution_count": 2,
   "metadata": {
    "slideshow": {
     "slide_type": "skip"
    }
   },
   "outputs": [],
   "source": [
    "%reset -f"
   ]
  },
  {
   "cell_type": "code",
   "execution_count": 3,
   "metadata": {
    "slideshow": {
     "slide_type": "skip"
    }
   },
   "outputs": [],
   "source": [
    "import numpy as np\n",
    "\n",
    "import os\n"
   ]
  },
  {
   "cell_type": "markdown",
   "metadata": {
    "slideshow": {
     "slide_type": "slide"
    }
   },
   "source": [
    "From \"Clever Algorithms\": \n",
    "The Ant system algorithm is inspired by the foraging behavior of ants, specifically\n",
    "the pheromone communication between ants regarding a good path\n",
    "between the colony and a food source in an environment. This mechanism\n",
    "is called stigmergy.\n",
    "\n",
    "![title](Ant.jpg)"
   ]
  },
  {
   "cell_type": "markdown",
   "metadata": {
    "slideshow": {
     "slide_type": "notes"
    }
   },
   "source": [
    "#### the classes Problem, Ant, AntcolonyTSP are loaded from file: before closing clean up and %writefile!"
   ]
  },
  {
   "cell_type": "code",
   "execution_count": 4,
   "metadata": {
    "slideshow": {
     "slide_type": "slide"
    }
   },
   "outputs": [],
   "source": [
    "#%%writefile ../project/ant.py\n",
    "# %load ../project/ant.py\n",
    "#!/usr/bin/env python3\n",
    "\n",
    "\n",
    "\n",
    "import numpy as np\n",
    "\n",
    "import os\n",
    "\n",
    "# Ants are the agents that perform the walks on the problem graph\n",
    "# attributes:\n",
    "    # size: number of cities\n",
    "    # cities: array of indices of the cities\n",
    "    # tour: array of cities in the order in which they were visited, returning to the starting point\n",
    "    # tourlength: length of the tour as sum of distances in km\n",
    "    # choices: array of probabilities with which a certain city will be chosen as the next to visit\n",
    "    # candidate: bool, true if this ant's tour is a candidate for the optimal tour\n",
    "class Ant:\n",
    "    \n",
    "    def __init__(self, problemsize):\n",
    "        self.size = problemsize\n",
    "        self.cities = np.arange(problemsize)\n",
    "        self.tour = np.zeros(problemsize, 'i4')\n",
    "        self.tourlength = 0\n",
    "        self.choices = np.zeros(problemsize, 'f8')\n",
    "        self.candidate = False\n",
    "        \n",
    "    \n",
    "    # choose the next city to visit, given the current position and all probabilities  \n",
    "    # TODO: WITH MASK, COPY WHEN DIVIDING\n",
    "    def choosenext(self, position, probmatrix):\n",
    "        self.choices = np.copy(probmatrix[position, :]) # copy row of position\n",
    "        self.choices[self.tour] = 0. # set to 0 all probabilities referring to cities already visited\n",
    "        s = self.choices.sum()\n",
    "        self.choices /= s #DO copy here!!\n",
    "        #return np.random.choice(self.cities, size=None, replace=True, p = self.choices) --> SLOW\n",
    "        return np.random.multinomial(1,self.choices).argmax()\n",
    "    \n",
    "    # perform a walk on the graph, beginning and ending at position start\n",
    "    # IN: start, current best tourlength, matrix of all distances, matrix of all probabilities\n",
    "    def walk(self, start, currentbest, distmatrix, probmatrix):\n",
    "        self.tourlength = 0\n",
    "        self.tour = np.zeros(self.size, 'i4')\n",
    "        i = start\n",
    "        self.tour[0] = i # add city start to tour\n",
    "        for k in range(1, self.size):\n",
    "            j = self.choosenext(i, probmatrix) # choose next city\n",
    "            self.tour[k] = j # add city to tour\n",
    "            self.tourlength += distmatrix[i,j] # calculate traveled distance\n",
    "            i = j # update current position\n",
    "            if (self.tourlength > currentbest):\n",
    "                return #return self.tourlength ?# stop if the tourlength exceeds current best tour before all cities are visited\n",
    "        self.tourlength += distmatrix[j,start] # add distance of the return to start\n",
    "        if (self.tourlength >= currentbest):\n",
    "                return self.tourlength # if tourlength exceeds current best tour, it is not a candidate\n",
    "        self.candidate = True\n",
    "        return self.tourlength\n",
    "    \n",
    "    # given a known solution tour, perform the walk to calculate the length\n",
    "    def solutionwalk(self, solution, distmatrix):\n",
    "        self.tour = np.zeros(self.size, 'i4')\n",
    "        self.tourlength = 0\n",
    "        i = solution[0]\n",
    "        for j in solution[1:]:\n",
    "            self.tourlength += distmatrix[i,j]\n",
    "            i=j\n",
    "        self.tourlength += distmatrix[solution[-1], solution[0]]\n",
    "        return self.tourlength\n",
    "    \n",
    "    # def naivewalk(self, distmatrix):\n",
    "    #     randsol = np.random.permutation(self.size)\n",
    "    #     self.tour = np.zeros(self.size, 'i4')\n",
    "    #     self.tourlength = 0\n",
    "    #     i = randsol[0]\n",
    "    #     self.tour[0] = 0\n",
    "    #     for j in randsol[1:]:\n",
    "    #         self.tourlength += distmatrix[i,j]\n",
    "    #         i=j\n",
    "    #     self.tourlength += distmatrix[randsol[-1], randsol[0]]\n",
    "    #     return self.tourlength\n",
    "\n",
    "    # naivewalk as nearest neighbour tour: greedy solution\n",
    "    def naivewalk(self, distmatrix):\n",
    "        dist = distmatrix.astype(float)\n",
    "        dist[np.where(dist == 0)] = np.inf\n",
    "        dist[:,0] = np.inf\n",
    "        self.tour = np.zeros(self.size, 'i4')\n",
    "        self.tourlength = 0\n",
    "        self.tour[0] = 0\n",
    "        i = 0\n",
    "        for j in range(1, self.size):\n",
    "            choice = dist[self.tour[i],:]\n",
    "            #print('choices: ', choice)\n",
    "            self.tour[j] = np.argmin((choice[np.nonzero(choice)]))\n",
    "            #print(self.tour[j]) # choose shortest distance greedily\n",
    "            self.tourlength += distmatrix[i,j]\n",
    "            i = j\n",
    "            dist[:,self.tour[j]] = np.inf\n",
    "        self.tourlength += distmatrix[j, 0]\n",
    "        #print('naive tour: ', self.tour, '\\nlength: ', self.tourlength)\n",
    "        return self.tourlength\n",
    "    \n",
    "    # reset the ant's attributes to initial values for the next iteration\n",
    "    def reset(self):\n",
    "        self.tour = np.zeros(self.size, 'i4')\n",
    "        self.tourlength = 0\n",
    "        self.choices = np.zeros(self.size, 'f8')\n",
    "        self.candidate = False\n",
    "        \n",
    "        "
   ]
  },
  {
   "cell_type": "code",
   "execution_count": 5,
   "metadata": {
    "slideshow": {
     "slide_type": "slide"
    }
   },
   "outputs": [],
   "source": [
    "#%%writefile ../project/problem.py\n",
    "# %load ../project/problem.py\n",
    "#!/usr/bin/env python3\n",
    "# \n",
    "import numpy as np\n",
    "import os\n",
    "\n",
    "#from ant import Ant\n",
    "\n",
    "class Problem:\n",
    "\n",
    "    # the Problem is a set of coordinates read from file \n",
    "    # from which the distances are calculated,\n",
    "    # plus a set of ants which are applied to finding a solution.\n",
    "    # attributes:\n",
    "        # name: identifier of data\n",
    "        # x,y: coordinates of the cities from the data file\n",
    "        # size: number of cities in the problem\n",
    "        # ro, alpha, beta: parameters from the equations for the colony\n",
    "        # phmax: max amount of pheromone\n",
    "        # distances, heuristics: (size x size) matrices of distances, heuristic factors calculated from the data\n",
    "        # currentbest: best result from last iteration\n",
    "        # pheromones: matrix? of pheromone trails for each edge\n",
    "        # ants: array of Ants for the Problem\n",
    "        # bestant: Ant that arrived at currentbest solution in last iteration\n",
    "    def __init__(self, problemname, ro, alpha, beta):\n",
    "        self.name = problemname\n",
    "        self.x, self.y = self.readcoords()\n",
    "        self.size = self.x.size\n",
    "        self.ro = ro\n",
    "        self.alpha = alpha\n",
    "        self.beta = beta\n",
    "        self.phmax = 0.9\n",
    "        self.distances, self.heuristics = self.getmatrices()\n",
    "        self.currentbest = self.initguess()\n",
    "        self.pheromones = self.initpheromones()\n",
    "        self.probabilities = self.pheromones**self.alpha * self.heuristics \n",
    "        self.ants = []\n",
    "        self.bestant = Ant(self.size)\n",
    "        self.greedytour = np.zeros(self.size)\n",
    "        \n",
    "\n",
    "\n",
    "\n",
    "    # find a certain string that denotes start of data in data file\n",
    "    # OUT: no. of rows to be skipped in file\n",
    "    def getheader(self, file, string):\n",
    "        header = 0\n",
    "        with open(file) as f:\n",
    "            for line in f:\n",
    "                header += 1\n",
    "                if string in line:\n",
    "                    break\n",
    "        f.close()\n",
    "        return header\n",
    "    \n",
    "    # go to start of data in data file\n",
    "    # OUT: no. of rows until node coordinate section starts\n",
    "    def skiprows(self):\n",
    "        path = os.getcwd()\n",
    "        return self.getheader(path + '/ALL_tsp/' + self.name + '.tsp', 'NODE_COORD_SECTION')\n",
    "    \n",
    "    # read all coordinates from data file, store in array x and y respectively\n",
    "    def readcoords(self):\n",
    "        path = os.getcwd()\n",
    "        coords = np.genfromtxt(path + '/ALL_tsp/' + self.name + '.tsp',  \n",
    "                                    skip_header = self.skiprows(), \n",
    "                                    skip_footer = 1, \n",
    "                                    usecols=(1,2), \n",
    "                                    dtype = 'f8')\n",
    "        x = coords[:,0]\n",
    "        y = coords[:,1]\n",
    "        return x, y\n",
    "    \n",
    "\n",
    "    # calculate distances between all nodes in data as euclidean distances\n",
    "    # calculate initial probability matrix as inverse distances to the power of beta \n",
    "    # TODO: --> is that right? normalize here? CHECK!!!\n",
    "    # round distances to integer\n",
    "    # OUT: matrix of distances, matrix of probabilities\n",
    "    def getmatrices(self):\n",
    "        xI, xJ = np.meshgrid(self.x,self.x, sparse=False, indexing='ij')\n",
    "        yI, yJ = np.meshgrid(self.y,self.y, sparse=False, indexing='ij')\n",
    "        distmatrix = np.sqrt((xI-xJ)**2 + (yI-yJ)**2)\n",
    "        probmatrix = np.divide(1, distmatrix, out=np.zeros_like(distmatrix), where=distmatrix!=0) # TODO: recheck this function\n",
    "        distmatrix = (distmatrix + 0.5).astype(int)\n",
    "        return distmatrix, (probmatrix**self.beta)\n",
    "    \n",
    "        #TRY COORDINATE TRANSFORMATION; ALL DISTANCES BETWEEN 0 and 1\n",
    "    #def disttrans(self):\n",
    "        \n",
    "\n",
    "    # get initial guess for a solution\n",
    "    # OUT: length of greedy solution \n",
    "    def initguess(self):\n",
    "        a = Ant(self.size)\n",
    "        firstlength = a.naivewalk(self.distances)\n",
    "        self.greedytour = a.tour\n",
    "        return firstlength\n",
    "    \n",
    "    # initialize pheromones\n",
    "    # OUT: matrix of bonuses for best path\n",
    "    def initpheromones(self):\n",
    "        ph0 = self.size/self.currentbest\n",
    "        #ph0 = 0.1\n",
    "        #print('pheromone initialized: ', ph0)\n",
    "        return np.full((self.size, self.size), ph0)\n",
    "    \n",
    "    \n",
    "    \n",
    "    # get known solution\n",
    "    # OUT: array of indices in the order of the solution   \n",
    "    def readsol(self):\n",
    "        path = os.getcwd()\n",
    "        solutionname = self.name + '.opt.tour'\n",
    "        solut = np.genfromtxt(path + '/ALL_tsp/' + solutionname,  \n",
    "                                 skip_header = self.getheader(path + '/ALL_tsp/' + solutionname, 'TOUR_SECTION'), \n",
    "                                 skip_footer = 2, \n",
    "                                 dtype = 'i4')\n",
    "        solut.reshape(1, solut.size)\n",
    "        solution = solut[np.where(solut!=0)]\n",
    "        solution -=1\n",
    "        return solution\n",
    "    \n",
    "    # ready the ants\n",
    "    # OUT: array of Ants\n",
    "    def antsinit(self, antnumber):\n",
    "        self.ants = [Ant(self.size) for _ in range(antnumber)]\n",
    "        #print(antnumber, 'ants initialised with tourlength ' , self.ants[0].tourlength)\n",
    "\n",
    "    # decrease the pheromone          \n",
    "    def decay(self):\n",
    "        #old = np.copy(self.pheromones[0,1])\n",
    "        self.pheromones *= (1 - self.ro)\n",
    "        #print('decay: ', old, 'to ', self.pheromones[0,1])\n",
    "        \n",
    "    #UPDATE FOR ALL CANDIDATE SOLUTIONS   \n",
    "    def update(self):\n",
    "        for index, a in enumerate(self.ants):\n",
    "            # if the Ant is a candidate, check whether it is a new best solution and perform update\n",
    "            if(a.candidate == True):\n",
    "                if (a.tourlength < self.currentbest):\n",
    "                    self.currentbest = a.tourlength\n",
    "                    self.bestant = a\n",
    "\n",
    "                # for the edges in the Ant's tour, add 1/tourlength to the pheromone for that edge\n",
    "                # keep pheromone matrix symmetric    \n",
    "                i = a.tour[0]\n",
    "                for j in a.tour[1:]:\n",
    "                    self.pheromones[i,j] += 1./a.tourlength\n",
    "                    self.pheromones[j,i] = self.pheromones[i,j]\n",
    "                    i=j\n",
    "                self.pheromones[j,a.tour[0]] += 1./a.tourlength\n",
    "                self.pheromones[a.tour[0], j] = self.pheromones[j,a.tour[0]]\n",
    "                \n",
    "                #print('updated for ant no. ', index)\n",
    "    # adjust the probabilities matrix according to the updated pheromones\n",
    "    # TODO: check this formula!!\n",
    "    def weigh(self):\n",
    "        #old = np.copy(self.pheromones[0,1])\n",
    "        self.probabilities = self.pheromones**self.alpha * self.heuristics\n",
    "        #print('max', np.amax(self.probabilities), 'min', np.amin(self.probabilities))\n",
    "        #print('recalculated probabilities. ')\n",
    "\n",
    "    # reset all attributes for repetition of optimization   \n",
    "    def reset(self):\n",
    "        self.distances, self.heuristics = self.getmatrices()\n",
    "        self.currentbest = self.initguess()\n",
    "        self.pheromones = self.initpheromones()\n",
    "        self.probabilities = self.pheromones**self.alpha * self.heuristics \n",
    "        "
   ]
  },
  {
   "cell_type": "code",
   "execution_count": 6,
   "metadata": {
    "slideshow": {
     "slide_type": "slide"
    }
   },
   "outputs": [],
   "source": [
    "#%%writefile ../project/antoptimizer.py\n",
    "# %load ../project/antoptimizer.py\n",
    "#!/usr/bin/env python3\n",
    "\n",
    "import numpy as np\n",
    "import os\n",
    "\n",
    "#from problem import Problem\n",
    "#from ant import Ant\n",
    "\n",
    "\n",
    "class AntOptimizer:\n",
    "    \n",
    "    # AntOptimizer performs the optimization process for a given problem\n",
    "    # attributes:\n",
    "        # pro: Problem with given parameters\n",
    "        # maxit: amount of iterations for one optimization process\n",
    "        # solution: order and length of known solution\n",
    "        # bestvalues: array of best solution for every iteration\n",
    "        # bestsamples: array of arrays: bestvalues for several repetitions of optimization process\n",
    "\n",
    "    def __init__(self, problemname, ro = 0.5, alpha = 1., beta = 1.5, maxiterations = 100, antnumber = 20, solution = 'False'):\n",
    "        self.pro = Problem(problemname, ro, alpha, beta)\n",
    "        self.pro.currentbest = self.pro.initguess()\n",
    "        self.pro.antsinit(antnumber)\n",
    "        self.maxit = maxiterations+1\n",
    "        if solution:\n",
    "            self.solutiontour, self.solutionlength = self.getsolution()\n",
    "        self.bestvalues = np.zeros(self.maxit)\n",
    "        self.besttour = np.zeros(self.pro.size)\n",
    "        self.bestsamples = np.zeros(self.maxit)\n",
    "        self.alltours = []\n",
    "        self.globalbesttour = np.zeros(self.pro.size)\n",
    "        self.globalbestvalue = self.pro.currentbest\n",
    "        self.statistics = 'False'\n",
    "        \n",
    "        print('\\nAnt colony optimization for Travelling Salesman problem: ', self.pro.name, ', with', antnumber, ' ants')\n",
    "\n",
    "    # get path and length of known solution\n",
    "    # OUT: array of indices, length            \n",
    "    def getsolution(self):\n",
    "        sol = self.pro.readsol()\n",
    "        solant = Ant(self.pro.size)\n",
    "        optlen = solant.solutionwalk(sol, self.pro.distances)\n",
    "        return sol, optlen\n",
    "    \n",
    "    # do the optimization: \n",
    "        # in each iteration, all ants find a solution, the problem gets updated, \n",
    "        # the best solution and it's length are stored\n",
    "    def optimization(self):\n",
    "        \n",
    "        self.bestvalues[0] = self.pro.currentbest\n",
    "        self.alltours.append(self.pro.greedytour)\n",
    "        print('\\nInitial guess by greedy strategy: ', self.pro.currentbest)\n",
    "        print('Optimizing...\\n')\n",
    "        for iteration in range(1,self.maxit):\n",
    "            #print('\\niteration: ', iteration, ', current shortest path: ', self.pro.currentbest)\n",
    "            #print('ants are walking...')\n",
    "            for index, ant in enumerate(self.pro.ants):\n",
    "                ant.walk(0, self.pro.currentbest, self.pro.distances, self.pro.probabilities)\n",
    "\n",
    "            self.pro.decay()\n",
    "            self.pro.update()\n",
    "            self.pro.weigh()\n",
    "            \n",
    "            self.bestvalues[iteration] = self.pro.currentbest\n",
    "            self.besttour = np.copy(self.pro.bestant.tour)\n",
    "            self.alltours.append(self.besttour)\n",
    "            \n",
    "            for ant in self.pro.ants:\n",
    "                ant.reset()\n",
    "        \n",
    "        print('best solution found:', self.pro.currentbest)\n",
    "        #print('found best tour: ', self.besttour)\n",
    "        print('known solution:' , self.solutionlength)\n",
    "        #print('known best tour: ', self.solutiontour)\n",
    "        \n",
    "    # does (samples) repetitions of the optimization process to get statistics            \n",
    "    def optsamples(self, samples = 500):\n",
    "        self.statistics = 'True'\n",
    "        print('\\nDoing', samples, 'runs of optimization...' )\n",
    "        self.bestsamples = np.zeros((self.maxit, samples))\n",
    "        for s in range(samples):\n",
    "            self.pro.reset()\n",
    "            self.optimization()\n",
    "            self.bestsamples[:,s] = np.copy(self.bestvalues)\n",
    "            #print('best: ', self.pro.currentbest)\n",
    "            if self.pro.currentbest < self.globalbestvalue:\n",
    "                self.globalbestvalue = self.pro.currentbest\n",
    "                self.globalbesttour = self.besttour\n",
    "                #print('global best:', self.globalbestvalue)   \n",
    "        \n",
    "        self.samplemean = np.mean(self.bestsamples, axis = 1)\n",
    "        self.sampleminimum = np.amin(self.bestsamples, axis = 1)"
   ]
  },
  {
   "cell_type": "code",
   "execution_count": 59,
   "metadata": {
    "slideshow": {
     "slide_type": "slide"
    }
   },
   "outputs": [],
   "source": [
    "#%%writefile ../project/plottings.py\n",
    "# plotting functions\n",
    "import matplotlib.pyplot as plt\n",
    "\n",
    "def plottours(testit):\n",
    "    \n",
    "    greedyx = testit.pro.x[testit.pro.greedytour]\n",
    "    greedyy = testit.pro.y[testit.pro.greedytour]\n",
    "    if testit.statistics == 'True':\n",
    "        globalsolx = testit.pro.x[testit.globalbesttour]\n",
    "        globalsoly = testit.pro.y[testit.globalbesttour]\n",
    "    else:\n",
    "        globalsolx = testit.pro.x[testit.besttour]\n",
    "        globalsoly = testit.pro.y[testit.besttour]\n",
    "    solx = testit.pro.x[testit.solutiontour]\n",
    "    soly = testit.pro.y[testit.solutiontour] \n",
    "    \n",
    "    fig, ax = plt.subplots()\n",
    "\n",
    "\n",
    "    ax.plot(greedyx, greedyy, color = '0.8', label='initial guess')\n",
    "    ax.plot(solx,soly, label='optimal solution')\n",
    "    ax.plot(globalsolx,globalsoly, label='best found solution')\n",
    "\n",
    "    ax.plot(testit.pro.x, testit.pro.y, 'o', color='black')\n",
    "    \n",
    "    ax.legend(loc='upper right')\n",
    "\n",
    "    plt.show()\n",
    "    \n",
    "\n",
    "#def plotconvergence(testit, mean = 'False', notes = 'best run'):\n",
    "def plotconvergence(testlist, mean = 'False', minim = 'True', \n",
    "                    noteslist = ['best run'], \n",
    "                    title = 'shortest path found by ants compared to optimal solution'):\n",
    "   \n",
    "    fig, ax = plt.subplots()\n",
    "    \n",
    "    # known solution\n",
    "    ax.plot(np.full(testlist[0].maxit, testlist[0].solutionlength), 'r', label='known optimum')\n",
    "    \n",
    "    for note, testit in enumerate(testlist):\n",
    "\n",
    "        # mean of solutions found\n",
    "        if mean == 'True':\n",
    "            ax.plot(testit.samplemean, label=noteslist[note])\n",
    "\n",
    "        # best solutions found\n",
    "        if minim == 'True':\n",
    "            ax.plot(testit.sampleminimum, label=noteslist[note])\n",
    "    \n",
    "    ax.legend(loc='upper right')\n",
    "    ax.set_title(title)\n",
    "    ax.set_xlabel('iterations')\n",
    "    ax.set_ylabel('length of solution')\n",
    "\n",
    "    ax.set_ylim(testit.solutionlength-50, testit.sampleminimum[0])\n",
    "    plt.show()"
   ]
  },
  {
   "cell_type": "code",
   "execution_count": 8,
   "metadata": {
    "slideshow": {
     "slide_type": "skip"
    }
   },
   "outputs": [],
   "source": [
    "np.set_printoptions(precision=2)"
   ]
  },
  {
   "cell_type": "code",
   "execution_count": 9,
   "metadata": {
    "slideshow": {
     "slide_type": "slide"
    }
   },
   "outputs": [
    {
     "name": "stdout",
     "output_type": "stream",
     "text": [
      "\n",
      "Ant colony optimization for Travelling Salesman problem:  st70 , with 50  ants\n"
     ]
    }
   ],
   "source": [
    "st70test = AntOptimizer('st70', maxiterations = 100, antnumber = 50, solution = 'True')"
   ]
  },
  {
   "cell_type": "code",
   "execution_count": 10,
   "metadata": {
    "slideshow": {
     "slide_type": "subslide"
    }
   },
   "outputs": [
    {
     "name": "stdout",
     "output_type": "stream",
     "text": [
      "\n",
      "Initial guess by greedy strategy:  3410\n",
      "Optimizing...\n",
      "\n",
      "best solution found: 827\n",
      "known solution: 675\n"
     ]
    }
   ],
   "source": [
    "st70test.optimization()"
   ]
  },
  {
   "cell_type": "code",
   "execution_count": 11,
   "metadata": {
    "slideshow": {
     "slide_type": "subslide"
    }
   },
   "outputs": [
    {
     "name": "stdout",
     "output_type": "stream",
     "text": [
      "\n",
      "Doing 3 runs of optimization...\n",
      "\n",
      "Initial guess by greedy strategy:  3410\n",
      "Optimizing...\n",
      "\n",
      "best solution found: 844\n",
      "known solution: 675\n",
      "\n",
      "Initial guess by greedy strategy:  3410\n",
      "Optimizing...\n",
      "\n",
      "best solution found: 799\n",
      "known solution: 675\n",
      "\n",
      "Initial guess by greedy strategy:  3410\n",
      "Optimizing...\n",
      "\n",
      "best solution found: 766\n",
      "known solution: 675\n"
     ]
    }
   ],
   "source": [
    "st70mean = st70test.optsamples(3)"
   ]
  },
  {
   "cell_type": "code",
   "execution_count": 12,
   "metadata": {
    "slideshow": {
     "slide_type": "fragment"
    }
   },
   "outputs": [
    {
     "data": {
      "image/png": "[encoded data removed]",
      "text/plain": [
       "<matplotlib.figure.Figure at 0x1094d2438>"
      ]
     },
     "metadata": {},
     "output_type": "display_data"
    }
   ],
   "source": [
    "plottours(st70test)"
   ]
  },
  {
   "cell_type": "code",
   "execution_count": 13,
   "metadata": {
    "slideshow": {
     "slide_type": "fragment"
    }
   },
   "outputs": [
    {
     "data": {
      "image/png": "[encoded data removed]",
      "text/plain": [
       "<matplotlib.figure.Figure at 0x10a55c080>"
      ]
     },
     "metadata": {},
     "output_type": "display_data"
    }
   ],
   "source": [
    "plotconvergence(st70test, mean = 'True')"
   ]
  },
  {
   "cell_type": "code",
   "execution_count": 14,
   "metadata": {
    "slideshow": {
     "slide_type": "slide"
    }
   },
   "outputs": [
    {
     "name": "stdout",
     "output_type": "stream",
     "text": [
      "\n",
      "Ant colony optimization for Travelling Salesman problem:  berlin52 , with 50  ants\n",
      "\n",
      "Initial guess by greedy strategy:  22205\n",
      "Optimizing...\n",
      "\n",
      "best solution found: 8253\n",
      "known solution: 7542\n"
     ]
    }
   ],
   "source": [
    "berlin = AntOptimizer('berlin52', maxiterations = 100, antnumber = 50, solution = 'True')\n",
    "berlin.optimization()"
   ]
  },
  {
   "cell_type": "code",
   "execution_count": 15,
   "metadata": {
    "slideshow": {
     "slide_type": "subslide"
    }
   },
   "outputs": [
    {
     "name": "stdout",
     "output_type": "stream",
     "text": [
      "\n",
      "Doing 3 runs of optimization...\n",
      "\n",
      "Initial guess by greedy strategy:  22205\n",
      "Optimizing...\n",
      "\n",
      "best solution found: 8153\n",
      "known solution: 7542\n",
      "\n",
      "Initial guess by greedy strategy:  22205\n",
      "Optimizing...\n",
      "\n",
      "best solution found: 12166\n",
      "known solution: 7542\n",
      "\n",
      "Initial guess by greedy strategy:  22205\n",
      "Optimizing...\n",
      "\n",
      "best solution found: 9370\n",
      "known solution: 7542\n"
     ]
    }
   ],
   "source": [
    "berlin.optsamples(3)"
   ]
  },
  {
   "cell_type": "code",
   "execution_count": 16,
   "metadata": {
    "slideshow": {
     "slide_type": "fragment"
    }
   },
   "outputs": [
    {
     "data": {
      "image/png": "[encoded data removed]",
      "text/plain": [
       "<matplotlib.figure.Figure at 0x10a5fa208>"
      ]
     },
     "metadata": {},
     "output_type": "display_data"
    }
   ],
   "source": [
    "plottours(berlin)"
   ]
  },
  {
   "cell_type": "code",
   "execution_count": 40,
   "metadata": {
    "slideshow": {
     "slide_type": "fragment"
    }
   },
   "outputs": [
    {
     "data": {
      "image/png": "[encoded data removed]",
      "text/plain": [
       "<matplotlib.figure.Figure at 0x10a90cf60>"
      ]
     },
     "metadata": {},
     "output_type": "display_data"
    }
   ],
   "source": [
    "plotconvergence([berlin], mean= 'True', noteslist = ['best result'])"
   ]
  },
  {
   "cell_type": "code",
   "execution_count": 27,
   "metadata": {
    "slideshow": {
     "slide_type": "notes"
    }
   },
   "outputs": [
    {
     "name": "stdout",
     "output_type": "stream",
     "text": [
      "8153\n"
     ]
    }
   ],
   "source": [
    "print(berlin.globalbestvalue)"
   ]
  },
  {
   "cell_type": "code",
   "execution_count": 48,
   "metadata": {
    "slideshow": {
     "slide_type": "skip"
    }
   },
   "outputs": [
    {
     "name": "stdout",
     "output_type": "stream",
     "text": [
      "\n",
      "Ant colony optimization for Travelling Salesman problem:  berlin52 , with 5  ants\n",
      "\n",
      "Ant colony optimization for Travelling Salesman problem:  berlin52 , with 10  ants\n",
      "\n",
      "Ant colony optimization for Travelling Salesman problem:  berlin52 , with 20  ants\n",
      "\n",
      "Ant colony optimization for Travelling Salesman problem:  berlin52 , with 50  ants\n",
      "\n",
      "Ant colony optimization for Travelling Salesman problem:  berlin52 , with 100  ants\n"
     ]
    }
   ],
   "source": [
    "opt_antnumber = []\n",
    "antno = [5, 10, 20, 50, 100]\n",
    "for an in antno:\n",
    "    opt_antnumber.append(AntOptimizer('berlin52', maxiterations = 100, antnumber = an, solution = 'True'))"
   ]
  },
  {
   "cell_type": "code",
   "execution_count": 49,
   "metadata": {
    "slideshow": {
     "slide_type": "skip"
    }
   },
   "outputs": [
    {
     "name": "stdout",
     "output_type": "stream",
     "text": [
      "5 ants; \n",
      "\n",
      "Doing 5 runs of optimization...\n",
      "\n",
      "Initial guess by greedy strategy:  22205\n",
      "Optimizing...\n",
      "\n",
      "best solution found: 9409\n",
      "known solution: 7542\n",
      "\n",
      "Initial guess by greedy strategy:  22205\n",
      "Optimizing...\n",
      "\n",
      "best solution found: 10993\n",
      "known solution: 7542\n",
      "\n",
      "Initial guess by greedy strategy:  22205\n",
      "Optimizing...\n",
      "\n",
      "best solution found: 9054\n",
      "known solution: 7542\n",
      "\n",
      "Initial guess by greedy strategy:  22205\n",
      "Optimizing...\n",
      "\n",
      "best solution found: 9231\n",
      "known solution: 7542\n",
      "\n",
      "Initial guess by greedy strategy:  22205\n",
      "Optimizing...\n",
      "\n",
      "best solution found: 13413\n",
      "known solution: 7542\n",
      "10 ants; \n",
      "\n",
      "Doing 5 runs of optimization...\n",
      "\n",
      "Initial guess by greedy strategy:  22205\n",
      "Optimizing...\n",
      "\n",
      "best solution found: 9540\n",
      "known solution: 7542\n",
      "\n",
      "Initial guess by greedy strategy:  22205\n",
      "Optimizing...\n",
      "\n",
      "best solution found: 9194\n",
      "known solution: 7542\n",
      "\n",
      "Initial guess by greedy strategy:  22205\n",
      "Optimizing...\n",
      "\n",
      "best solution found: 11227\n",
      "known solution: 7542\n",
      "\n",
      "Initial guess by greedy strategy:  22205\n",
      "Optimizing...\n",
      "\n",
      "best solution found: 10847\n",
      "known solution: 7542\n",
      "\n",
      "Initial guess by greedy strategy:  22205\n",
      "Optimizing...\n",
      "\n",
      "best solution found: 10733\n",
      "known solution: 7542\n",
      "20 ants; \n",
      "\n",
      "Doing 5 runs of optimization...\n",
      "\n",
      "Initial guess by greedy strategy:  22205\n",
      "Optimizing...\n",
      "\n",
      "best solution found: 10027\n",
      "known solution: 7542\n",
      "\n",
      "Initial guess by greedy strategy:  22205\n",
      "Optimizing...\n",
      "\n",
      "best solution found: 9077\n",
      "known solution: 7542\n",
      "\n",
      "Initial guess by greedy strategy:  22205\n",
      "Optimizing...\n",
      "\n",
      "best solution found: 8850\n",
      "known solution: 7542\n",
      "\n",
      "Initial guess by greedy strategy:  22205\n",
      "Optimizing...\n",
      "\n",
      "best solution found: 13112\n",
      "known solution: 7542\n",
      "\n",
      "Initial guess by greedy strategy:  22205\n",
      "Optimizing...\n",
      "\n",
      "best solution found: 8723\n",
      "known solution: 7542\n",
      "50 ants; \n",
      "\n",
      "Doing 5 runs of optimization...\n",
      "\n",
      "Initial guess by greedy strategy:  22205\n",
      "Optimizing...\n",
      "\n",
      "best solution found: 9110\n",
      "known solution: 7542\n",
      "\n",
      "Initial guess by greedy strategy:  22205\n",
      "Optimizing...\n",
      "\n",
      "best solution found: 12363\n",
      "known solution: 7542\n",
      "\n",
      "Initial guess by greedy strategy:  22205\n",
      "Optimizing...\n",
      "\n",
      "best solution found: 7849\n",
      "known solution: 7542\n",
      "\n",
      "Initial guess by greedy strategy:  22205\n",
      "Optimizing...\n",
      "\n",
      "best solution found: 8278\n",
      "known solution: 7542\n",
      "\n",
      "Initial guess by greedy strategy:  22205\n",
      "Optimizing...\n",
      "\n",
      "best solution found: 9276\n",
      "known solution: 7542\n",
      "100 ants; \n",
      "\n",
      "Doing 5 runs of optimization...\n",
      "\n",
      "Initial guess by greedy strategy:  22205\n",
      "Optimizing...\n",
      "\n",
      "best solution found: 8047\n",
      "known solution: 7542\n",
      "\n",
      "Initial guess by greedy strategy:  22205\n",
      "Optimizing...\n",
      "\n",
      "best solution found: 8142\n",
      "known solution: 7542\n",
      "\n",
      "Initial guess by greedy strategy:  22205\n",
      "Optimizing...\n",
      "\n",
      "best solution found: 11863\n",
      "known solution: 7542\n",
      "\n",
      "Initial guess by greedy strategy:  22205\n",
      "Optimizing...\n",
      "\n",
      "best solution found: 7870\n",
      "known solution: 7542\n",
      "\n",
      "Initial guess by greedy strategy:  22205\n",
      "Optimizing...\n",
      "\n",
      "best solution found: 11517\n",
      "known solution: 7542\n"
     ]
    }
   ],
   "source": [
    "for opt in opt_antnumber:\n",
    "    print(len(opt.pro.ants), 'ants; ', )\n",
    "    opt.optsamples(5)\n"
   ]
  },
  {
   "cell_type": "code",
   "execution_count": 50,
   "metadata": {
    "slideshow": {
     "slide_type": "skip"
    }
   },
   "outputs": [
    {
     "data": {
      "image/png": "[encoded data removed]",
      "text/plain": [
       "<matplotlib.figure.Figure at 0x1084bf470>"
      ]
     },
     "metadata": {},
     "output_type": "display_data"
    }
   ],
   "source": [
    "plotconvergence(opt_antnumber, noteslist = antno)"
   ]
  },
  {
   "cell_type": "code",
   "execution_count": 63,
   "metadata": {
    "slideshow": {
     "slide_type": "slide"
    }
   },
   "outputs": [],
   "source": [
    "def vary_antnumber(problemname, maxiter, samples, str = 'minim'):\n",
    "\n",
    "    opt_antnumber = []\n",
    "    antno = [5, 10, 20, 50, 100]\n",
    "    for an in antno:\n",
    "        opt_antnumber.append(AntOptimizer(problemname, maxiterations = maxiter, antnumber = an, solution = 'True'))\n",
    "\n",
    "    for opt in opt_antnumber:\n",
    "        print(len(opt.pro.ants), 'ants; ', )\n",
    "        opt.optsamples(samples)\n",
    "\n",
    "    if str == 'mean':\n",
    "        plotconvergence(opt_antnumber, mean='True', minim='False', noteslist = antno, title='shortest path found for different number of ants')\n",
    "    else:\n",
    "        plotconvergence(opt_antnumber, noteslist = antno)"
   ]
  },
  {
   "cell_type": "code",
   "execution_count": 64,
   "metadata": {
    "slideshow": {
     "slide_type": "slide"
    }
   },
   "outputs": [
    {
     "name": "stdout",
     "output_type": "stream",
     "text": [
      "\n",
      "Ant colony optimization for Travelling Salesman problem:  berlin52 , with 5  ants\n",
      "\n",
      "Ant colony optimization for Travelling Salesman problem:  berlin52 , with 10  ants\n",
      "\n",
      "Ant colony optimization for Travelling Salesman problem:  berlin52 , with 20  ants\n",
      "\n",
      "Ant colony optimization for Travelling Salesman problem:  berlin52 , with 50  ants\n",
      "\n",
      "Ant colony optimization for Travelling Salesman problem:  berlin52 , with 100  ants\n",
      "5 ants; \n",
      "\n",
      "Doing 1 runs of optimization...\n",
      "\n",
      "Initial guess by greedy strategy:  22205\n",
      "Optimizing...\n",
      "\n",
      "best solution found: 14229\n",
      "known solution: 7542\n",
      "10 ants; \n",
      "\n",
      "Doing 1 runs of optimization...\n",
      "\n",
      "Initial guess by greedy strategy:  22205\n",
      "Optimizing...\n",
      "\n",
      "best solution found: 9115\n",
      "known solution: 7542\n",
      "20 ants; \n",
      "\n",
      "Doing 1 runs of optimization...\n",
      "\n",
      "Initial guess by greedy strategy:  22205\n",
      "Optimizing...\n",
      "\n",
      "best solution found: 8704\n",
      "known solution: 7542\n",
      "50 ants; \n",
      "\n",
      "Doing 1 runs of optimization...\n",
      "\n",
      "Initial guess by greedy strategy:  22205\n",
      "Optimizing...\n",
      "\n",
      "best solution found: 8137\n",
      "known solution: 7542\n",
      "100 ants; \n",
      "\n",
      "Doing 1 runs of optimization...\n",
      "\n",
      "Initial guess by greedy strategy:  22205\n",
      "Optimizing...\n",
      "\n",
      "best solution found: 7877\n",
      "known solution: 7542\n"
     ]
    },
    {
     "data": {
      "image/png": "[encoded data removed]",
      "text/plain": [
       "<matplotlib.figure.Figure at 0x10ab96320>"
      ]
     },
     "metadata": {},
     "output_type": "display_data"
    }
   ],
   "source": [
    "vary_antnumber('berlin52', 40, 1, str = 'minim')"
   ]
  },
  {
   "cell_type": "code",
   "execution_count": null,
   "metadata": {},
   "outputs": [],
   "source": []
  }
 ],
 "metadata": {
  "celltoolbar": "Slideshow",
  "kernelspec": {
   "display_name": "Python 3",
   "language": "python",
   "name": "python3"
  },
  "language_info": {
   "codemirror_mode": {
    "name": "ipython",
    "version": 3
   },
   "file_extension": ".py",
   "mimetype": "text/x-python",
   "name": "python",
   "nbconvert_exporter": "python",
   "pygments_lexer": "ipython3",
   "version": "3.6.4"
  }
 },
 "nbformat": 4,
 "nbformat_minor": 2
}
